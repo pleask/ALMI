{
 "cells": [
  {
   "attachments": {},
   "cell_type": "markdown",
   "metadata": {},
   "source": [
    "# Subject Models"
   ]
  },
  {
   "cell_type": "code",
   "execution_count": null,
   "metadata": {},
   "outputs": [],
   "source": [
    "import pandas as pd\n",
    "import json \n",
    "\n",
    "with open('index.txt', 'r') as index_file:\n",
    "    rows = []\n",
    "    for line in index_file:\n",
    "        line = line.strip()\n",
    "        model_name, metadata_string = line.split(' ', maxsplit=1)\n",
    "        metadata = json.loads(metadata_string)\n",
    "        metadata['name'] = model_name\n",
    "        rows.append(metadata)\n",
    "\n",
    "weight_decay = pd.DataFrame(rows)"
   ]
  },
  {
   "attachments": {},
   "cell_type": "markdown",
   "metadata": {},
   "source": [
    "## Sparsity"
   ]
  },
  {
   "cell_type": "code",
   "execution_count": 47,
   "metadata": {},
   "outputs": [
    {
     "data": {
      "text/html": [
       "<div>\n",
       "<style scoped>\n",
       "    .dataframe tbody tr th:only-of-type {\n",
       "        vertical-align: middle;\n",
       "    }\n",
       "\n",
       "    .dataframe tbody tr th {\n",
       "        vertical-align: top;\n",
       "    }\n",
       "\n",
       "    .dataframe thead th {\n",
       "        text-align: right;\n",
       "    }\n",
       "</style>\n",
       "<table border=\"1\" class=\"dataframe\">\n",
       "  <thead>\n",
       "    <tr style=\"text-align: right;\">\n",
       "      <th></th>\n",
       "      <th>name</th>\n",
       "      <th>weight_decay</th>\n",
       "      <th>sparsity</th>\n",
       "    </tr>\n",
       "  </thead>\n",
       "  <tbody>\n",
       "    <tr>\n",
       "      <th>0</th>\n",
       "      <td>aab35ece-643f-443c-a9e1-0a0c71768beb</td>\n",
       "      <td>0.1000</td>\n",
       "      <td>40.444444</td>\n",
       "    </tr>\n",
       "    <tr>\n",
       "      <th>1</th>\n",
       "      <td>de5dbb97-aa02-4cf0-96f5-e19f7befe7a3</td>\n",
       "      <td>0.0001</td>\n",
       "      <td>84.296296</td>\n",
       "    </tr>\n",
       "    <tr>\n",
       "      <th>2</th>\n",
       "      <td>16fd4d22-3030-4ede-a240-6f25693a2c8e</td>\n",
       "      <td>1.0000</td>\n",
       "      <td>40.888889</td>\n",
       "    </tr>\n",
       "    <tr>\n",
       "      <th>3</th>\n",
       "      <td>e22a8a91-d93f-42b6-a623-2c3056771081</td>\n",
       "      <td>1.0000</td>\n",
       "      <td>51.407407</td>\n",
       "    </tr>\n",
       "    <tr>\n",
       "      <th>4</th>\n",
       "      <td>9d26485b-1d09-49e1-9903-df0aa17162db</td>\n",
       "      <td>0.0000</td>\n",
       "      <td>58.962963</td>\n",
       "    </tr>\n",
       "  </tbody>\n",
       "</table>\n",
       "</div>"
      ],
      "text/plain": [
       "                                   name  weight_decay   sparsity\n",
       "0  aab35ece-643f-443c-a9e1-0a0c71768beb        0.1000  40.444444\n",
       "1  de5dbb97-aa02-4cf0-96f5-e19f7befe7a3        0.0001  84.296296\n",
       "2  16fd4d22-3030-4ede-a240-6f25693a2c8e        1.0000  40.888889\n",
       "3  e22a8a91-d93f-42b6-a623-2c3056771081        1.0000  51.407407\n",
       "4  9d26485b-1d09-49e1-9903-df0aa17162db        0.0000  58.962963"
      ]
     },
     "execution_count": 47,
     "metadata": {},
     "output_type": "execute_result"
    }
   ],
   "source": [
    "import pandas as pd\n",
    "\n",
    "with open(\"sparsity.txt\", 'r') as sparsity_file:\n",
    "    rows = []\n",
    "    for line in sparsity_file:\n",
    "        line = line.strip()\n",
    "        name, sparsity = line.split(', ')\n",
    "        rows.append((name, float(sparsity)))\n",
    "\n",
    "sparsity = pd.DataFrame(rows, columns=['name', 'sparsity'])\n",
    "weight_decay_sparsity = pd.merge(weight_decay[['name', 'weight_decay']], sparsity, on='name', how='inner')\n",
    "weight_decay_sparsity.head()"
   ]
  },
  {
   "cell_type": "code",
   "execution_count": 50,
   "metadata": {},
   "outputs": [
    {
     "data": {
      "image/png": "[encoded data removed]",
      "text/plain": [
       "<Figure size 500x500 with 1 Axes>"
      ]
     },
     "metadata": {},
     "output_type": "display_data"
    }
   ],
   "source": [
    "import matplotlib.pyplot as plt\n",
    "\n",
    "fig, ax = plt.subplots(1, 1, figsize=(5, 5))\n",
    "\n",
    "grouped = weight_decay_sparsity.groupby('weight_decay')\n",
    "data = [group['sparsity'].tolist() for _, group in grouped]\n",
    "labels = grouped.groups.keys()\n",
    "ax.boxplot(data, labels=labels, showfliers=False)\n",
    "ax.set_xlabel('Weight Decay')\n",
    "ax.set_ylabel('Sparsity')\n",
    "\n",
    "plt.show()"
   ]
  },
  {
   "attachments": {},
   "cell_type": "markdown",
   "metadata": {},
   "source": [
    "## Performance"
   ]
  },
  {
   "cell_type": "code",
   "execution_count": 2,
   "metadata": {},
   "outputs": [
    {
     "data": {
      "text/html": [
       "<div>\n",
       "<style scoped>\n",
       "    .dataframe tbody tr th:only-of-type {\n",
       "        vertical-align: middle;\n",
       "    }\n",
       "\n",
       "    .dataframe tbody tr th {\n",
       "        vertical-align: top;\n",
       "    }\n",
       "\n",
       "    .dataframe thead th {\n",
       "        text-align: right;\n",
       "    }\n",
       "</style>\n",
       "<table border=\"1\" class=\"dataframe\">\n",
       "  <thead>\n",
       "    <tr style=\"text-align: right;\">\n",
       "      <th></th>\n",
       "      <th>fn_name</th>\n",
       "      <th>parameter</th>\n",
       "      <th>loss</th>\n",
       "      <th>seed</th>\n",
       "      <th>weight_decay</th>\n",
       "      <th>epochs</th>\n",
       "      <th>name</th>\n",
       "      <th>prune_amount</th>\n",
       "    </tr>\n",
       "  </thead>\n",
       "  <tbody>\n",
       "    <tr>\n",
       "      <th>0</th>\n",
       "      <td>multiplication</td>\n",
       "      <td>0.356396</td>\n",
       "      <td>1.151715e-04</td>\n",
       "      <td>726</td>\n",
       "      <td>0.1000</td>\n",
       "      <td>10000</td>\n",
       "      <td>aab35ece-643f-443c-a9e1-0a0c71768beb</td>\n",
       "      <td>0.0</td>\n",
       "    </tr>\n",
       "    <tr>\n",
       "      <th>1</th>\n",
       "      <td>min</td>\n",
       "      <td>0.659066</td>\n",
       "      <td>1.163055e-06</td>\n",
       "      <td>3856</td>\n",
       "      <td>0.0001</td>\n",
       "      <td>10000</td>\n",
       "      <td>de5dbb97-aa02-4cf0-96f5-e19f7befe7a3</td>\n",
       "      <td>0.0</td>\n",
       "    </tr>\n",
       "    <tr>\n",
       "      <th>2</th>\n",
       "      <td>exponent</td>\n",
       "      <td>0.632487</td>\n",
       "      <td>6.036503e-02</td>\n",
       "      <td>1076</td>\n",
       "      <td>1.0000</td>\n",
       "      <td>10000</td>\n",
       "      <td>16fd4d22-3030-4ede-a240-6f25693a2c8e</td>\n",
       "      <td>0.0</td>\n",
       "    </tr>\n",
       "    <tr>\n",
       "      <th>3</th>\n",
       "      <td>exponent</td>\n",
       "      <td>0.293628</td>\n",
       "      <td>6.916875e-02</td>\n",
       "      <td>686</td>\n",
       "      <td>1.0000</td>\n",
       "      <td>10000</td>\n",
       "      <td>e22a8a91-d93f-42b6-a623-2c3056771081</td>\n",
       "      <td>0.0</td>\n",
       "    </tr>\n",
       "    <tr>\n",
       "      <th>4</th>\n",
       "      <td>multiplication</td>\n",
       "      <td>0.072917</td>\n",
       "      <td>2.953429e-09</td>\n",
       "      <td>2061</td>\n",
       "      <td>0.0000</td>\n",
       "      <td>10000</td>\n",
       "      <td>9d26485b-1d09-49e1-9903-df0aa17162db</td>\n",
       "      <td>0.0</td>\n",
       "    </tr>\n",
       "  </tbody>\n",
       "</table>\n",
       "</div>"
      ],
      "text/plain": [
       "          fn_name  parameter          loss  seed  weight_decay  epochs  \\\n",
       "0  multiplication   0.356396  1.151715e-04   726        0.1000   10000   \n",
       "1             min   0.659066  1.163055e-06  3856        0.0001   10000   \n",
       "2        exponent   0.632487  6.036503e-02  1076        1.0000   10000   \n",
       "3        exponent   0.293628  6.916875e-02   686        1.0000   10000   \n",
       "4  multiplication   0.072917  2.953429e-09  2061        0.0000   10000   \n",
       "\n",
       "                                   name  prune_amount  \n",
       "0  aab35ece-643f-443c-a9e1-0a0c71768beb           0.0  \n",
       "1  de5dbb97-aa02-4cf0-96f5-e19f7befe7a3           0.0  \n",
       "2  16fd4d22-3030-4ede-a240-6f25693a2c8e           0.0  \n",
       "3  e22a8a91-d93f-42b6-a623-2c3056771081           0.0  \n",
       "4  9d26485b-1d09-49e1-9903-df0aa17162db           0.0  "
      ]
     },
     "execution_count": 2,
     "metadata": {},
     "output_type": "execute_result"
    }
   ],
   "source": [
    "# TODO: Get the losses for the other pruning amounts\n",
    "with open('pruned_losses.txt', 'r') as pruned_losses:\n",
    "    rows = []\n",
    "    for line in pruned_losses:\n",
    "        name, loss = line.strip().split(' ')\n",
    "        rows.append((name, float(loss)))\n",
    "pruned_losses = pd.DataFrame(rows, columns=['name', 'loss'])\n",
    "pruned_losses['prune_amount'] = 0.2\n",
    "\n",
    "zero_decay_rows = weight_decay[weight_decay['weight_decay'] == 0]\n",
    "zero_decay_rows = zero_decay_rows.drop('loss', axis=1)\n",
    "pruned_models = pd.merge(zero_decay_rows, pruned_losses, on='name', how='inner')\n",
    "\n",
    "weight_decay['prune_amount'] = 0.\n",
    "subject_models = pd.concat([weight_decay, pruned_models])\n",
    "\n",
    "subject_models.head()"
   ]
  },
  {
   "cell_type": "code",
   "execution_count": 3,
   "metadata": {},
   "outputs": [
    {
     "data": {
      "text/plain": [
       "fn_name\n",
       "exponent          73121\n",
       "sigmoid           70035\n",
       "addition          70033\n",
       "multiplication    70001\n",
       "min               69330\n",
       "Name: count, dtype: int64"
      ]
     },
     "execution_count": 3,
     "metadata": {},
     "output_type": "execute_result"
    }
   ],
   "source": [
    "subject_models['fn_name'].value_counts()"
   ]
  },
  {
   "cell_type": "code",
   "execution_count": 21,
   "metadata": {},
   "outputs": [
    {
     "data": {
      "image/png": "[encoded data removed]",
      "text/plain": [
       "<Figure size 500x500 with 1 Axes>"
      ]
     },
     "metadata": {},
     "output_type": "display_data"
    }
   ],
   "source": [
    "import matplotlib.pyplot as plt\n",
    "\n",
    "fig, ax = plt.subplots(1, 1, figsize=(5, 5))\n",
    "\n",
    "weight_decay_groups = subject_models[subject_models['prune_amount'] == 0.].groupby('weight_decay')\n",
    "weight_decay_data = [group['loss'].tolist() for _, group in weight_decay_groups]\n",
    "weight_decay_labels = [f'weight_decay={wd}' for wd in weight_decay_groups.groups.keys()]\n",
    "\n",
    "prune_amount_groups = subject_models[(subject_models['weight_decay'] == 0.) & (subject_models['prune_amount'] > 0.)].groupby('prune_amount')\n",
    "prune_amount_data = [group['loss'].tolist() for _, group in prune_amount_groups]\n",
    "prune_amount_labels = [f'prune_amount={pa}' for pa in prune_amount_groups.groups.keys()]\n",
    "\n",
    "data = weight_decay_data + prune_amount_data\n",
    "labels = weight_decay_labels + prune_amount_labels\n",
    "\n",
    "\n",
    "ax.boxplot(data, labels=labels, showfliers=False, vert=False)\n",
    "ax.set_xlabel('Regularizer')\n",
    "ax.set_ylabel('Loss')\n",
    "\n",
    "plt.show()"
   ]
  },
  {
   "attachments": {},
   "cell_type": "markdown",
   "metadata": {},
   "source": [
    "# Interpretability models"
   ]
  },
  {
   "cell_type": "code",
   "execution_count": 51,
   "metadata": {},
   "outputs": [
    {
     "name": "stdout",
     "output_type": "stream",
     "text": [
      "Found 71 runs\n"
     ]
    }
   ],
   "source": [
    "import wandb\n",
    "from train_subject_models import FUNCTION_NAMES\n",
    "from datetime import datetime\n",
    "\n",
    "api = wandb.Api()\n",
    "runs = api.runs(\n",
    "    path='patrickaaleask/bounding-mi',\n",
    "    filters= {\n",
    "        'config.functions': FUNCTION_NAMES,\n",
    "        'State': 'finished',\n",
    "        'created_at': {\n",
    "            '$gt': \"2023-06-26T00:00:00\",\n",
    "            # '$lt': \"2023-06-27T00:00:00\",\n",
    "        },\n",
    "    },\n",
    ")\n",
    "print(f'Found {len(list(runs))} runs')"
   ]
  },
  {
   "cell_type": "code",
   "execution_count": 56,
   "metadata": {},
   "outputs": [
    {
     "data": {
      "text/html": [
       "<div>\n",
       "<style scoped>\n",
       "    .dataframe tbody tr th:only-of-type {\n",
       "        vertical-align: middle;\n",
       "    }\n",
       "\n",
       "    .dataframe tbody tr th {\n",
       "        vertical-align: top;\n",
       "    }\n",
       "\n",
       "    .dataframe thead th {\n",
       "        text-align: right;\n",
       "    }\n",
       "</style>\n",
       "<table border=\"1\" class=\"dataframe\">\n",
       "  <thead>\n",
       "    <tr style=\"text-align: right;\">\n",
       "      <th></th>\n",
       "      <th>Weight Decay</th>\n",
       "      <th>Prune Amount</th>\n",
       "      <th>Loss</th>\n",
       "    </tr>\n",
       "  </thead>\n",
       "  <tbody>\n",
       "    <tr>\n",
       "      <th>0</th>\n",
       "      <td>0.0</td>\n",
       "      <td>0.2</td>\n",
       "      <td>0.025061</td>\n",
       "    </tr>\n",
       "    <tr>\n",
       "      <th>1</th>\n",
       "      <td>0.0</td>\n",
       "      <td>0.2</td>\n",
       "      <td>0.024917</td>\n",
       "    </tr>\n",
       "    <tr>\n",
       "      <th>2</th>\n",
       "      <td>0.0</td>\n",
       "      <td>0.2</td>\n",
       "      <td>0.025308</td>\n",
       "    </tr>\n",
       "    <tr>\n",
       "      <th>3</th>\n",
       "      <td>1.0</td>\n",
       "      <td>0.0</td>\n",
       "      <td>0.014947</td>\n",
       "    </tr>\n",
       "    <tr>\n",
       "      <th>4</th>\n",
       "      <td>1.0</td>\n",
       "      <td>0.0</td>\n",
       "      <td>0.014900</td>\n",
       "    </tr>\n",
       "  </tbody>\n",
       "</table>\n",
       "</div>"
      ],
      "text/plain": [
       "   Weight Decay  Prune Amount      Loss\n",
       "0           0.0           0.2  0.025061\n",
       "1           0.0           0.2  0.024917\n",
       "2           0.0           0.2  0.025308\n",
       "3           1.0           0.0  0.014947\n",
       "4           1.0           0.0  0.014900"
      ]
     },
     "execution_count": 56,
     "metadata": {},
     "output_type": "execute_result"
    }
   ],
   "source": [
    "import pandas as pd\n",
    "from scipy import stats\n",
    "\n",
    "run_data = []\n",
    "for run in runs:\n",
    "    if run.summary['_wandb']['runtime'] < 10:\n",
    "        continue\n",
    "    try:\n",
    "        prune_amount = run.config['prune_amount']\n",
    "    except KeyError:\n",
    "        prune_amount = 0.\n",
    "    run_data.append((run.config['weight_decay'], prune_amount, run.summary['validation_loss']))\n",
    "\n",
    "interp_models = pd.DataFrame(run_data, columns=['weight_decay', 'prune_amount', 'loss'])\n",
    "interp_models.head()\n"
   ]
  },
  {
   "cell_type": "code",
   "execution_count": 54,
   "metadata": {},
   "outputs": [
    {
     "data": {
      "image/png": "[encoded data removed]",
      "text/plain": [
       "<Figure size 640x480 with 1 Axes>"
      ]
     },
     "metadata": {},
     "output_type": "display_data"
    }
   ],
   "source": [
    "import matplotlib.pyplot as plt\n",
    "\n",
    "fig, ax = plt.subplots(1, 1, figsize=(5, 5))\n",
    "\n",
    "weight_decay_groups = subject_models[subject_models['prune_amount'] == 0.].groupby('weight_decay')\n",
    "weight_decay_data = [group['loss'].tolist() for _, group in weight_decay_groups]\n",
    "weight_decay_labels = [f'weight_decay={wd}' for wd in weight_decay_groups.groups.keys()]\n",
    "\n",
    "prune_amount_groups = subject_models[(subject_models['weight_decay'] == 0.) & (subject_models['prune_amount'] > 0.)].groupby('prune_amount')\n",
    "prune_amount_data = [group['loss'].tolist() for _, group in prune_amount_groups]\n",
    "prune_amount_labels = [f'prune_amount={pa}' for pa in prune_amount_groups.groups.keys()]\n",
    "\n",
    "data = weight_decay_data + prune_amount_data\n",
    "labels = weight_decay_labels + prune_amount_labels\n",
    "\n",
    "\n",
    "ax.boxplot(data, labels=labels, showfliers=False, vert=False)\n",
    "ax.set_xlabel('Regularizer')\n",
    "ax.set_ylabel('Loss')\n",
    "\n",
    "plt.show()\n",
    "\n",
    "# Create a figure and axis object\n",
    "fig, ax = plt.subplots()\n",
    "\n",
    "# Group the dataframe by 'Class'\n",
    "grouped = df.groupby('Weight Decay')\n",
    "\n",
    "# Create a list of data for each class\n",
    "data = [group['Loss'].tolist() for name, group in grouped]\n",
    "\n",
    "# Plot the boxplot\n",
    "ax.boxplot(data, labels=grouped.groups.keys())\n",
    "\n",
    "# Set x-axis and y-axis labels\n",
    "ax.set_xlabel('Weight Decay')\n",
    "ax.set_ylabel('Loss')\n",
    "\n",
    "# Show the plot\n",
    "plt.show()"
   ]
  },
  {
   "cell_type": "code",
   "execution_count": 16,
   "metadata": {},
   "outputs": [
    {
     "name": "stdout",
     "output_type": "stream",
     "text": [
      "F-value: 7819.33\n",
      "p-value: 6.647503941303006e-76\n"
     ]
    }
   ],
   "source": [
    "weight_decays = sorted(df['Weight Decay'].unique())\n",
    "\n",
    "f_value, p_value = stats.f_oneway(*[df['Validation Loss'][df['Weight Decay'] == weight_decay] for weight_decay in weight_decays])\n",
    "\n",
    "print(f'F-value: {f_value:.2f}')\n",
    "print(f'p-value: {p_value}')"
   ]
  },
  {
   "cell_type": "code",
   "execution_count": 35,
   "metadata": {},
   "outputs": [
    {
     "data": {
      "text/plain": [
       "101637"
      ]
     },
     "execution_count": 35,
     "metadata": {},
     "output_type": "execute_result"
    }
   ],
   "source": [
    "import torch\n",
    "\n",
    "\n",
    "SUBJECT_MODEL_PARAMETER_COUNT = 726\n",
    "class FeedForwardNN(nn.Module):\n",
    "    def __init__(self, out_size):\n",
    "        super().__init__()\n",
    "        self.fc1 = nn.Linear(SUBJECT_MODEL_PARAMETER_COUNT, 128)\n",
    "        self.relu1 = nn.ReLU()\n",
    "        self.fc2 = nn.Linear(128, 64)\n",
    "        self.relu2 = nn.ReLU()\n",
    "        self.fc3 = nn.Linear(64, out_size)\n",
    "        self.softmax = nn.Softmax(dim=-1)\n",
    "\n",
    "    def forward(self, x):\n",
    "        x = self.fc1(x)\n",
    "        x = self.relu1(x)\n",
    "        x = self.fc2(x)\n",
    "        x = self.relu2(x)\n",
    "        x = self.fc3(x)\n",
    "        function_encoding = self.softmax(x[:, :-1])\n",
    "        x = torch.cat([function_encoding, x[:, -1:]], dim=-1)\n",
    "        return x\n",
    "\n",
    "nn = FeedForwardNN(5)\n",
    "\n",
    "sum(p.numel() for p in nn.parameters())"
   ]
  }
 ],
 "metadata": {
  "kernelspec": {
   "display_name": "bounding-mi-venv",
   "language": "python",
   "name": "python3"
  },
  "language_info": {
   "codemirror_mode": {
    "name": "ipython",
    "version": 3
   },
   "file_extension": ".py",
   "mimetype": "text/x-python",
   "name": "python",
   "nbconvert_exporter": "python",
   "pygments_lexer": "ipython3",
   "version": "3.10.6"
  },
  "orig_nbformat": 4
 },
 "nbformat": 4,
 "nbformat_minor": 2
}
